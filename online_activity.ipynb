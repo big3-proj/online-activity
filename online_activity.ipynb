{
 "cells": [
  {
   "cell_type": "code",
   "execution_count": 82,
   "metadata": {
    "ExecuteTime": {
     "end_time": "2021-01-17T12:53:45.929709Z",
     "start_time": "2021-01-17T12:53:44.823088Z"
    }
   },
   "outputs": [
    {
     "data": {
      "text/html": [
       "<div>\n",
       "<style scoped>\n",
       "    .dataframe tbody tr th:only-of-type {\n",
       "        vertical-align: middle;\n",
       "    }\n",
       "\n",
       "    .dataframe tbody tr th {\n",
       "        vertical-align: top;\n",
       "    }\n",
       "\n",
       "    .dataframe thead th {\n",
       "        text-align: right;\n",
       "    }\n",
       "</style>\n",
       "<table border=\"1\" class=\"dataframe\">\n",
       "  <thead>\n",
       "    <tr style=\"text-align: right;\">\n",
       "      <th></th>\n",
       "      <th>board</th>\n",
       "      <th>article_timestamp</th>\n",
       "      <th>article_author</th>\n",
       "      <th>article_id</th>\n",
       "      <th>article_title</th>\n",
       "      <th>article_content</th>\n",
       "      <th>push_content</th>\n",
       "      <th>push_ip</th>\n",
       "      <th>push_tag</th>\n",
       "      <th>push_timestamp</th>\n",
       "    </tr>\n",
       "    <tr>\n",
       "      <th>pusher_id</th>\n",
       "      <th></th>\n",
       "      <th></th>\n",
       "      <th></th>\n",
       "      <th></th>\n",
       "      <th></th>\n",
       "      <th></th>\n",
       "      <th></th>\n",
       "      <th></th>\n",
       "      <th></th>\n",
       "      <th></th>\n",
       "    </tr>\n",
       "  </thead>\n",
       "  <tbody>\n",
       "  </tbody>\n",
       "</table>\n",
       "</div>"
      ],
      "text/plain": [
       "Empty DataFrame\n",
       "Columns: [board, article_timestamp, article_author, article_id, article_title, article_content, push_content, push_ip, push_tag, push_timestamp]\n",
       "Index: []"
      ]
     },
     "execution_count": 82,
     "metadata": {},
     "output_type": "execute_result"
    }
   ],
   "source": [
    "import pandas as pd\n",
    "import itertools\n",
    "# filename = '2019_2020_top_10.csv'\n",
    "filename = 'top_100_users_pushes.csv'\n",
    "df = pd.read_csv(f'../segmentation/{filename}', index_col='pusher_id', keep_default_na=False)\n",
    "df = df.loc[df['push_tag'] != '']\n",
    "df.head()"
   ]
  },
  {
   "cell_type": "code",
   "execution_count": 25,
   "metadata": {
    "ExecuteTime": {
     "end_time": "2021-01-17T12:12:00.408162Z",
     "start_time": "2021-01-17T12:11:59.271787Z"
    }
   },
   "outputs": [
    {
     "data": {
      "text/html": [
       "<div>\n",
       "<style scoped>\n",
       "    .dataframe tbody tr th:only-of-type {\n",
       "        vertical-align: middle;\n",
       "    }\n",
       "\n",
       "    .dataframe tbody tr th {\n",
       "        vertical-align: top;\n",
       "    }\n",
       "\n",
       "    .dataframe thead th {\n",
       "        text-align: right;\n",
       "    }\n",
       "</style>\n",
       "<table border=\"1\" class=\"dataframe\">\n",
       "  <thead>\n",
       "    <tr style=\"text-align: right;\">\n",
       "      <th></th>\n",
       "      <th>board</th>\n",
       "      <th>article_timestamp</th>\n",
       "      <th>article_id</th>\n",
       "      <th>article_title</th>\n",
       "      <th>article_content</th>\n",
       "      <th>push_content</th>\n",
       "      <th>push_ip</th>\n",
       "      <th>push_tag</th>\n",
       "      <th>pusher_id</th>\n",
       "      <th>push_timestamp</th>\n",
       "    </tr>\n",
       "    <tr>\n",
       "      <th>article_author</th>\n",
       "      <th></th>\n",
       "      <th></th>\n",
       "      <th></th>\n",
       "      <th></th>\n",
       "      <th></th>\n",
       "      <th></th>\n",
       "      <th></th>\n",
       "      <th></th>\n",
       "      <th></th>\n",
       "      <th></th>\n",
       "    </tr>\n",
       "  </thead>\n",
       "  <tbody>\n",
       "    <tr>\n",
       "      <th>GGrunrundela</th>\n",
       "      <td>Gossiping</td>\n",
       "      <td>2019-12-14 16:15:27</td>\n",
       "      <td>M.1576311329.A.383</td>\n",
       "      <td>[問卦] 欸 肥宅用p助的卡能吸淫到妹子嗎？</td>\n",
       "      <td>欸\\n\\n我說那個呀\\n\\n你個位的醜八怪、奈米屌、醜男、北七噁爛眾肥宅們晚安\\n\\n\\n\\...</td>\n",
       "      <td></td>\n",
       "      <td></td>\n",
       "      <td></td>\n",
       "      <td></td>\n",
       "      <td></td>\n",
       "    </tr>\n",
       "    <tr>\n",
       "      <th>GGrunrundela</th>\n",
       "      <td>Gossiping</td>\n",
       "      <td>2019-12-17 14:14:32</td>\n",
       "      <td>M.1576563274.A.5D0</td>\n",
       "      <td>[問卦] 男同事問我聖誕節有沒有要幹嘛??</td>\n",
       "      <td>安安安\\n\\n肥宅我 剛剛午休跟男同事聊天\\n\\n聊一聊就聊到床ㄕ.. 阿 不是喇 就聊到聖...</td>\n",
       "      <td></td>\n",
       "      <td></td>\n",
       "      <td></td>\n",
       "      <td></td>\n",
       "      <td></td>\n",
       "    </tr>\n",
       "    <tr>\n",
       "      <th>astrayzip</th>\n",
       "      <td>Gossiping</td>\n",
       "      <td>2019-12-01 03:52:58</td>\n",
       "      <td>M.1575143580.A.E6E</td>\n",
       "      <td>[問卦] 做夢體感時間越來越長該怎麼辦</td>\n",
       "      <td>大家好\\n\\n我朋友是個醫生辣\\n\\n前陣子說他有個病患\\n\\n說夢裡的體感時間越來越長\\n...</td>\n",
       "      <td></td>\n",
       "      <td></td>\n",
       "      <td></td>\n",
       "      <td></td>\n",
       "      <td></td>\n",
       "    </tr>\n",
       "    <tr>\n",
       "      <th>astrayzip</th>\n",
       "      <td>Gossiping</td>\n",
       "      <td>2019-12-01 15:28:49</td>\n",
       "      <td>M.1575185331.A.2EA</td>\n",
       "      <td>[問卦] 魚長腳跑到路上該怎辦</td>\n",
       "      <td>安安\\n\\n我朋友日本人辣\\n\\n他剛剛說他跟女朋友出去玩\\n\\n結果不知道為啥\\n\\n有很...</td>\n",
       "      <td></td>\n",
       "      <td></td>\n",
       "      <td></td>\n",
       "      <td></td>\n",
       "      <td></td>\n",
       "    </tr>\n",
       "    <tr>\n",
       "      <th>astrayzip</th>\n",
       "      <td>Gossiping</td>\n",
       "      <td>2019-12-02 14:22:18</td>\n",
       "      <td>M.1575267740.A.A8A</td>\n",
       "      <td>[問卦] 炭治郎真的就這樣瞎了後死了嗎</td>\n",
       "      <td>無慘用高速觸手打爆炭治郎的眼睛\\n\\n又塗毒攻擊炭讓他中鬼毒\\n\\n現在炭，就快要死掉了\\n...</td>\n",
       "      <td></td>\n",
       "      <td></td>\n",
       "      <td></td>\n",
       "      <td></td>\n",
       "      <td></td>\n",
       "    </tr>\n",
       "  </tbody>\n",
       "</table>\n",
       "</div>"
      ],
      "text/plain": [
       "                    board    article_timestamp          article_id  \\\n",
       "article_author                                                       \n",
       "GGrunrundela    Gossiping  2019-12-14 16:15:27  M.1576311329.A.383   \n",
       "GGrunrundela    Gossiping  2019-12-17 14:14:32  M.1576563274.A.5D0   \n",
       "astrayzip       Gossiping  2019-12-01 03:52:58  M.1575143580.A.E6E   \n",
       "astrayzip       Gossiping  2019-12-01 15:28:49  M.1575185331.A.2EA   \n",
       "astrayzip       Gossiping  2019-12-02 14:22:18  M.1575267740.A.A8A   \n",
       "\n",
       "                         article_title  \\\n",
       "article_author                           \n",
       "GGrunrundela    [問卦] 欸 肥宅用p助的卡能吸淫到妹子嗎？   \n",
       "GGrunrundela     [問卦] 男同事問我聖誕節有沒有要幹嘛??   \n",
       "astrayzip          [問卦] 做夢體感時間越來越長該怎麼辦   \n",
       "astrayzip              [問卦] 魚長腳跑到路上該怎辦   \n",
       "astrayzip          [問卦] 炭治郎真的就這樣瞎了後死了嗎   \n",
       "\n",
       "                                                  article_content  \\\n",
       "article_author                                                      \n",
       "GGrunrundela    欸\\n\\n我說那個呀\\n\\n你個位的醜八怪、奈米屌、醜男、北七噁爛眾肥宅們晚安\\n\\n\\n\\...   \n",
       "GGrunrundela    安安安\\n\\n肥宅我 剛剛午休跟男同事聊天\\n\\n聊一聊就聊到床ㄕ.. 阿 不是喇 就聊到聖...   \n",
       "astrayzip       大家好\\n\\n我朋友是個醫生辣\\n\\n前陣子說他有個病患\\n\\n說夢裡的體感時間越來越長\\n...   \n",
       "astrayzip       安安\\n\\n我朋友日本人辣\\n\\n他剛剛說他跟女朋友出去玩\\n\\n結果不知道為啥\\n\\n有很...   \n",
       "astrayzip       無慘用高速觸手打爆炭治郎的眼睛\\n\\n又塗毒攻擊炭讓他中鬼毒\\n\\n現在炭，就快要死掉了\\n...   \n",
       "\n",
       "               push_content push_ip push_tag pusher_id push_timestamp  \n",
       "article_author                                                         \n",
       "GGrunrundela                                                           \n",
       "GGrunrundela                                                           \n",
       "astrayzip                                                              \n",
       "astrayzip                                                              \n",
       "astrayzip                                                              "
      ]
     },
     "execution_count": 25,
     "metadata": {},
     "output_type": "execute_result"
    }
   ],
   "source": [
    "art_df = pd.read_csv(f'../segmentation/{filename}', index_col='article_author', keep_default_na=False)\n",
    "art_df = art_df.loc[art_df['pusher_id'] == '']\n",
    "art_df.head()"
   ]
  },
  {
   "cell_type": "code",
   "execution_count": 91,
   "metadata": {
    "ExecuteTime": {
     "end_time": "2021-01-17T13:11:48.297902Z",
     "start_time": "2021-01-17T13:11:47.271000Z"
    }
   },
   "outputs": [
    {
     "data": {
      "text/plain": [
       "[{'tag': '推', 'date': '2019-12-01', 'time': 17},\n",
       " {'tag': '噓', 'date': '2019-12-01', 'time': 17},\n",
       " {'tag': '噓', 'date': '2019-12-01', 'time': 19},\n",
       " {'tag': '噓', 'date': '2019-12-01', 'time': 19},\n",
       " {'tag': '噓', 'date': '2019-12-02', 'time': 9}]"
      ]
     },
     "execution_count": 91,
     "metadata": {},
     "output_type": "execute_result"
    }
   ],
   "source": [
    "from datetime import datetime\n",
    "\n",
    "users = list(set(df.index))\n",
    "art_users = list(set(art_df.index))\n",
    "\n",
    "def parse_timestamp(push_timestamp):\n",
    "    [date, time] = push_timestamp.split()\n",
    "    time = datetime.strptime(time, '%H:%M:%S').hour\n",
    "    return {'date': date, 'time': time}\n",
    "\n",
    "def to_data(data):\n",
    "    if len(data) == 2:\n",
    "        return {'tag': data[0], **parse_timestamp(data[1])}\n",
    "    return {'tag': '', **parse_timestamp(data[0])}\n",
    "\n",
    "def get_activity(user):\n",
    "    return list(map(to_data, df.loc[[user], ['push_tag', 'push_timestamp']].values.tolist()))\n",
    "\n",
    "def get_art_activity(user):\n",
    "    return list(map(to_data, art_df.loc[[user], ['article_timestamp']].values.tolist()))\n",
    "\n",
    "activities = [get_activity(u) for u in users] + [get_art_activity(u) for u in art_users]\n",
    "# preview\n",
    "activities[0][:5]"
   ]
  },
  {
   "cell_type": "code",
   "execution_count": 92,
   "metadata": {
    "ExecuteTime": {
     "end_time": "2021-01-17T13:11:52.026843Z",
     "start_time": "2021-01-17T13:11:51.732884Z"
    }
   },
   "outputs": [
    {
     "name": "stdout",
     "output_type": "stream",
     "text": [
      "[[0, 0, 0, 0, 0, 0, 1, 16, 20, 21, 20, 21, 19, 21, 20, 22, 20, 15, 6, 7, 2, 2, 0, 0], [4, 3, 3, 1, 0, 0, 1, 2, 2, 5, 8, 11, 13, 6, 9, 8, 11, 8, 12, 11, 7, 5, 6, 3], [18, 21, 16, 16, 12, 7, 5, 5, 2, 1, 2, 1, 2, 6, 9, 14, 19, 18, 17, 17, 15, 12, 18, 18], [8, 6, 5, 1, 0, 0, 0, 1, 9, 13, 10, 6, 12, 9, 12, 12, 8, 14, 12, 11, 8, 6, 12, 15], [0, 0, 1, 1, 1, 0, 1, 0, 0, 0, 0, 0, 0, 1, 0, 0, 0, 0, 0, 1, 1, 1, 1, 1], [1, 0, 0, 0, 0, 0, 0, 0, 0, 0, 9, 6, 5, 5, 5, 4, 5, 10, 4, 3, 4, 0, 2, 3], [6, 0, 0, 0, 0, 0, 0, 12, 24, 29, 30, 31, 24, 27, 23, 26, 28, 22, 14, 26, 19, 23, 23, 20], [15, 8, 1, 0, 0, 0, 2, 11, 14, 13, 11, 12, 7, 8, 9, 9, 6, 8, 9, 11, 10, 13, 11, 15], [0, 0, 0, 0, 0, 0, 0, 0, 0, 0, 1, 1, 0, 0, 0, 1, 0, 0, 0, 0, 1, 0, 0, 1], [0, 0, 0, 0, 0, 0, 0, 0, 0, 0, 0, 0, 1, 1, 0, 0, 0, 0, 1, 0, 0, 0, 0, 0], [17, 20, 13, 13, 8, 2, 0, 1, 4, 8, 10, 12, 12, 12, 16, 18, 17, 16, 19, 19, 17, 17, 11, 17], [1, 0, 0, 0, 0, 1, 1, 1, 3, 11, 22, 18, 22, 22, 15, 20, 18, 19, 15, 13, 6, 8, 16, 9], [1, 0, 0, 0, 0, 0, 0, 0, 0, 0, 1, 3, 2, 6, 1, 0, 0, 0, 0, 2, 1, 0, 2, 1], [14, 13, 4, 5, 4, 4, 11, 11, 15, 19, 22, 19, 21, 23, 20, 16, 20, 20, 21, 18, 13, 19, 19, 19], [14, 2, 0, 0, 0, 2, 6, 13, 19, 21, 23, 22, 22, 21, 17, 18, 19, 23, 18, 23, 22, 22, 22, 25], [6, 3, 0, 0, 0, 0, 0, 0, 1, 10, 8, 17, 18, 18, 11, 9, 16, 17, 19, 22, 16, 18, 16, 11], [7, 4, 0, 0, 0, 0, 0, 1, 3, 9, 8, 9, 10, 14, 9, 9, 12, 9, 10, 7, 6, 6, 12, 9], [0, 0, 0, 1, 0, 0, 0, 0, 0, 0, 0, 0, 0, 0, 0, 0, 0, 0, 0, 0, 0, 0, 0, 0], [0, 0, 0, 0, 0, 0, 0, 0, 0, 1, 0, 1, 0, 0, 0, 0, 0, 0, 0, 0, 0, 0, 0, 1], [0, 0, 0, 0, 0, 0, 0, 0, 0, 0, 0, 0, 0, 1, 0, 0, 0, 0, 0, 0, 0, 0, 0, 0], [0, 0, 0, 0, 1, 0, 0, 0, 0, 0, 0, 0, 0, 0, 0, 1, 0, 1, 1, 0, 0, 1, 0, 1], [1, 0, 0, 0, 0, 0, 10, 20, 18, 20, 19, 21, 20, 17, 17, 17, 13, 20, 9, 13, 14, 15, 13, 4], [1, 2, 4, 11, 6, 2, 1, 3, 3, 0, 0, 2, 2, 4, 5, 2, 2, 2, 1, 4, 3, 3, 3, 3], [3, 0, 0, 0, 0, 0, 6, 5, 2, 3, 2, 2, 9, 7, 6, 5, 10, 12, 8, 6, 4, 4, 4, 4], [0, 0, 0, 0, 0, 0, 0, 0, 0, 0, 0, 0, 0, 0, 0, 1, 0, 0, 1, 0, 0, 0, 0, 0], [0, 1, 1, 0, 0, 0, 0, 0, 0, 0, 0, 0, 0, 2, 2, 2, 0, 1, 2, 0, 1, 0, 0, 1], [1, 0, 0, 0, 0, 0, 0, 0, 0, 0, 0, 0, 0, 0, 3, 1, 1, 1, 0, 0, 1, 1, 0, 0], [12, 2, 0, 0, 0, 0, 1, 10, 16, 5, 4, 7, 17, 18, 14, 18, 13, 17, 19, 14, 17, 17, 16, 14], [11, 13, 13, 11, 9, 9, 11, 18, 19, 19, 15, 22, 20, 16, 14, 12, 9, 12, 15, 12, 17, 13, 11, 10], [14, 8, 3, 2, 1, 0, 0, 0, 0, 0, 0, 0, 1, 1, 1, 2, 2, 12, 8, 11, 7, 10, 12, 11], [13, 7, 5, 1, 0, 0, 0, 0, 4, 11, 16, 17, 24, 22, 17, 16, 18, 10, 21, 18, 23, 21, 22, 16], [6, 0, 0, 0, 0, 0, 0, 4, 5, 2, 4, 1, 5, 5, 2, 3, 3, 4, 6, 2, 2, 3, 1, 4], [8, 5, 1, 0, 0, 0, 0, 0, 0, 1, 0, 1, 1, 2, 3, 2, 0, 0, 3, 6, 6, 11, 9, 12], [10, 13, 5, 9, 2, 4, 3, 1, 5, 8, 13, 10, 8, 15, 11, 9, 9, 8, 11, 8, 5, 13, 4, 2], [0, 0, 0, 0, 0, 0, 0, 0, 0, 0, 0, 0, 2, 0, 0, 0, 1, 1, 0, 0, 0, 0, 0, 0], [13, 8, 5, 0, 0, 1, 5, 9, 12, 17, 28, 26, 21, 20, 21, 24, 23, 23, 18, 17, 18, 20, 14, 16], [11, 12, 12, 9, 9, 16, 12, 9, 5, 2, 2, 1, 2, 2, 5, 15, 18, 21, 22, 21, 20, 16, 10, 11], [12, 13, 12, 15, 12, 10, 12, 13, 18, 18, 18, 20, 22, 23, 23, 21, 23, 21, 18, 18, 21, 19, 17, 12], [10, 12, 10, 5, 1, 0, 0, 0, 0, 1, 1, 2, 5, 6, 9, 7, 8, 7, 9, 9, 10, 5, 10, 7], [10, 7, 7, 10, 4, 1, 4, 2, 4, 5, 6, 7, 8, 11, 15, 4, 10, 8, 10, 6, 8, 8, 7, 8], [0, 0, 0, 0, 0, 0, 0, 0, 0, 0, 0, 0, 0, 0, 0, 0, 0, 0, 1, 1, 0, 0, 0, 0], [3, 0, 0, 0, 0, 0, 0, 1, 1, 5, 2, 3, 6, 8, 6, 8, 7, 2, 2, 6, 9, 5, 2, 0], [0, 0, 0, 0, 0, 0, 0, 0, 0, 0, 0, 1, 0, 0, 0, 0, 0, 0, 0, 0, 0, 1, 0, 0], [0, 0, 0, 0, 0, 0, 0, 0, 5, 12, 23, 25, 25, 24, 25, 23, 22, 25, 25, 21, 18, 15, 0, 0], [1, 5, 6, 2, 2, 4, 3, 5, 5, 7, 6, 4, 2, 6, 2, 4, 5, 5, 3, 5, 2, 1, 1, 0], [8, 3, 1, 1, 2, 9, 7, 15, 20, 8, 11, 9, 21, 11, 10, 14, 7, 15, 23, 25, 17, 15, 9, 4], [0, 0, 0, 1, 3, 4, 3, 7, 21, 19, 17, 18, 20, 16, 17, 16, 18, 12, 13, 12, 11, 15, 10, 7], [0, 0, 0, 0, 0, 1, 2, 5, 4, 6, 6, 9, 10, 15, 9, 10, 7, 9, 4, 5, 6, 3, 3, 0], [11, 7, 6, 5, 2, 2, 5, 7, 15, 18, 13, 15, 12, 19, 18, 17, 20, 16, 16, 17, 10, 21, 19, 15], [1, 0, 0, 0, 0, 0, 0, 1, 0, 0, 0, 0, 0, 0, 0, 0, 0, 0, 1, 0, 0, 1, 0, 0], [3, 3, 2, 1, 2, 0, 0, 0, 0, 0, 2, 2, 1, 2, 1, 1, 2, 5, 2, 1, 3, 4, 2, 2], [0, 0, 0, 0, 0, 0, 0, 0, 0, 0, 0, 0, 0, 0, 0, 0, 0, 0, 0, 0, 0, 0, 0, 1], [17, 10, 8, 2, 0, 0, 1, 1, 1, 7, 18, 19, 15, 16, 13, 14, 12, 14, 11, 20, 22, 14, 15, 13], [1, 0, 0, 0, 0, 0, 0, 0, 0, 0, 0, 0, 0, 0, 0, 0, 0, 0, 0, 0, 0, 0, 0, 0], [0, 0, 0, 0, 0, 1, 2, 0, 9, 7, 9, 9, 10, 10, 9, 10, 9, 9, 7, 4, 0, 0, 1, 0], [11, 1, 0, 0, 0, 0, 1, 4, 18, 23, 23, 25, 24, 21, 20, 18, 24, 19, 17, 11, 11, 14, 7, 13], [13, 12, 6, 1, 0, 0, 0, 0, 0, 5, 10, 11, 7, 11, 9, 13, 10, 11, 8, 12, 8, 7, 13, 16], [1, 5, 1, 1, 0, 0, 0, 0, 0, 2, 2, 2, 7, 4, 0, 2, 1, 2, 6, 9, 2, 3, 1, 4], [6, 4, 1, 0, 0, 0, 0, 3, 5, 10, 19, 22, 17, 16, 17, 16, 13, 15, 15, 12, 16, 9, 8, 12], [24, 7, 3, 0, 0, 4, 3, 15, 8, 7, 16, 18, 21, 16, 14, 19, 20, 25, 26, 24, 25, 25, 17, 17], [4, 6, 2, 1, 4, 2, 1, 2, 3, 5, 3, 4, 8, 10, 14, 12, 10, 9, 8, 11, 8, 5, 2, 4], [0, 0, 0, 0, 0, 0, 0, 0, 0, 1, 2, 1, 0, 1, 2, 1, 2, 1, 3, 1, 2, 1, 0, 0], [1, 1, 2, 1, 0, 0, 0, 0, 1, 0, 0, 0, 0, 0, 3, 2, 1, 0, 0, 1, 0, 0, 0, 0], [13, 14, 12, 9, 9, 3, 3, 1, 1, 4, 8, 9, 11, 16, 16, 10, 7, 10, 14, 9, 9, 10, 9, 11], [0, 0, 0, 0, 0, 0, 0, 0, 0, 0, 0, 0, 0, 1, 0, 0, 0, 0, 0, 0, 0, 1, 0, 0], [0, 0, 0, 1, 1, 0, 0, 0, 0, 0, 0, 1, 1, 1, 2, 0, 0, 0, 1, 3, 0, 0, 0, 0], [0, 0, 0, 0, 0, 0, 0, 0, 0, 0, 0, 0, 3, 0, 0, 0, 0, 0, 1, 2, 0, 0, 0, 0], [7, 5, 3, 2, 0, 1, 0, 0, 3, 5, 9, 14, 17, 10, 6, 12, 11, 12, 7, 3, 6, 2, 7, 6], [9, 3, 1, 1, 1, 0, 0, 1, 4, 13, 18, 16, 11, 6, 11, 21, 18, 20, 14, 7, 5, 9, 11, 14], [12, 5, 4, 3, 1, 0, 1, 1, 6, 6, 8, 7, 14, 11, 6, 8, 10, 8, 11, 10, 7, 7, 11, 9], [0, 0, 0, 0, 0, 0, 0, 0, 0, 0, 0, 0, 0, 0, 0, 0, 0, 0, 0, 0, 0, 0, 1, 0], [21, 19, 20, 18, 12, 9, 7, 3, 4, 6, 8, 11, 14, 14, 15, 15, 15, 17, 17, 18, 16, 17, 18, 20], [6, 3, 1, 0, 0, 0, 2, 0, 4, 8, 8, 17, 20, 17, 13, 20, 16, 7, 8, 7, 14, 11, 7, 9], [3, 2, 2, 0, 0, 0, 0, 1, 3, 2, 2, 2, 4, 3, 2, 1, 3, 2, 0, 1, 2, 1, 1, 2], [20, 8, 6, 4, 3, 0, 2, 7, 20, 17, 24, 26, 26, 27, 28, 25, 25, 26, 23, 22, 22, 18, 15, 17], [4, 1, 0, 0, 0, 0, 2, 11, 16, 16, 16, 16, 21, 16, 11, 10, 12, 15, 22, 17, 10, 5, 4, 4], [22, 23, 16, 12, 10, 6, 6, 9, 13, 19, 15, 18, 12, 17, 15, 10, 9, 13, 16, 16, 18, 17, 15, 13], [9, 6, 7, 1, 0, 0, 0, 0, 0, 1, 3, 13, 14, 14, 19, 14, 15, 10, 9, 14, 5, 5, 10, 9], [0, 0, 0, 0, 0, 0, 0, 0, 1, 1, 0, 1, 0, 1, 1, 2, 1, 1, 1, 0, 0, 1, 1, 1], [0, 4, 1, 2, 0, 1, 1, 7, 13, 17, 9, 13, 16, 16, 12, 18, 19, 16, 13, 11, 8, 12, 7, 4], [0, 0, 0, 0, 0, 0, 0, 0, 0, 0, 1, 0, 0, 0, 0, 0, 0, 1, 0, 1, 0, 1, 0, 1], [0, 0, 0, 0, 0, 0, 0, 0, 0, 0, 0, 0, 1, 0, 0, 0, 0, 0, 0, 0, 0, 0, 0, 0], [0, 0, 0, 0, 0, 0, 0, 0, 4, 5, 9, 4, 4, 6, 3, 7, 5, 2, 0, 0, 0, 0, 0, 0], [0, 2, 0, 2, 0, 0, 0, 1, 0, 2, 3, 3, 3, 2, 3, 4, 5, 2, 2, 2, 2, 1, 3, 2], [0, 0, 0, 0, 0, 0, 1, 0, 4, 3, 1, 0, 2, 2, 0, 0, 0, 1, 1, 3, 5, 4, 0, 1], [0, 0, 0, 0, 0, 0, 0, 0, 1, 2, 1, 0, 0, 0, 1, 0, 0, 0, 1, 0, 0, 1, 1, 0], [1, 1, 0, 0, 0, 0, 0, 0, 1, 2, 2, 2, 2, 1, 0, 3, 1, 1, 4, 1, 1, 1, 2, 1], [2, 1, 1, 1, 0, 0, 0, 0, 0, 0, 1, 0, 0, 1, 1, 0, 2, 0, 0, 0, 0, 0, 1, 1], [0, 0, 0, 0, 0, 0, 0, 0, 0, 0, 1, 0, 0, 0, 0, 0, 0, 0, 0, 1, 1, 1, 0, 0], [0, 0, 0, 0, 0, 0, 0, 0, 7, 5, 4, 2, 0, 1, 1, 3, 3, 3, 10, 6, 3, 3, 3, 1], [0, 0, 0, 0, 0, 0, 0, 0, 0, 1, 0, 1, 1, 0, 0, 0, 0, 0, 0, 0, 0, 0, 0, 0], [0, 0, 0, 0, 0, 0, 0, 0, 0, 0, 0, 1, 0, 0, 0, 0, 0, 1, 0, 0, 0, 2, 1, 1], [0, 0, 0, 0, 0, 0, 0, 0, 0, 1, 2, 0, 0, 0, 0, 0, 0, 0, 0, 0, 0, 0, 0, 0], [12, 8, 3, 1, 5, 6, 4, 4, 6, 1, 2, 1, 5, 2, 0, 0, 2, 0, 0, 3, 2, 1, 0, 0], [0, 0, 0, 0, 0, 0, 0, 0, 0, 0, 0, 0, 0, 0, 1, 0, 1, 0, 0, 0, 0, 0, 0, 0], [0, 0, 0, 0, 0, 0, 0, 0, 0, 0, 0, 0, 0, 0, 0, 1, 0, 0, 0, 0, 0, 1, 0, 0], [0, 0, 0, 0, 0, 0, 0, 0, 0, 0, 1, 1, 2, 0, 0, 0, 0, 0, 0, 0, 1, 0, 0, 1], [0, 0, 0, 0, 0, 0, 0, 0, 0, 0, 2, 2, 3, 4, 1, 0, 0, 0, 1, 1, 3, 1, 4, 4], [0, 0, 0, 0, 0, 0, 0, 0, 0, 0, 0, 0, 0, 0, 0, 0, 0, 0, 1, 0, 0, 0, 0, 0], [0, 0, 1, 0, 0, 0, 0, 0, 0, 0, 3, 4, 5, 5, 4, 6, 4, 4, 1, 1, 0, 0, 1, 1], [0, 0, 0, 0, 0, 0, 0, 0, 0, 0, 0, 0, 0, 0, 0, 0, 0, 0, 0, 0, 1, 1, 0, 3], [0, 0, 0, 0, 0, 0, 0, 0, 0, 0, 0, 1, 0, 0, 1, 0, 1, 0, 0, 0, 0, 1, 0, 0], [0, 0, 0, 0, 0, 0, 0, 0, 0, 0, 0, 0, 0, 0, 1, 0, 0, 0, 0, 3, 0, 2, 0, 0], [0, 0, 0, 0, 0, 0, 0, 0, 0, 0, 0, 0, 0, 0, 0, 0, 0, 0, 0, 0, 0, 1, 0, 1], [0, 0, 0, 0, 1, 0, 0, 0, 0, 0, 0, 0, 0, 0, 0, 0, 0, 0, 0, 0, 0, 0, 0, 0], [2, 0, 0, 0, 0, 0, 0, 0, 2, 4, 7, 0, 0, 3, 5, 1, 0, 1, 0, 0, 0, 0, 0, 2], [2, 0, 0, 0, 1, 1, 0, 1, 2, 4, 1, 0, 5, 1, 2, 1, 3, 2, 2, 3, 2, 3, 3, 1], [0, 0, 1, 0, 0, 0, 0, 0, 0, 0, 0, 0, 0, 0, 0, 0, 0, 0, 0, 0, 0, 0, 0, 0], [1, 1, 1, 0, 0, 0, 0, 0, 0, 0, 0, 1, 0, 0, 0, 0, 1, 1, 1, 0, 0, 1, 0, 1], [0, 0, 0, 0, 0, 0, 0, 0, 0, 0, 0, 0, 0, 1, 0, 0, 0, 0, 0, 0, 0, 0, 0, 0], [0, 0, 1, 0, 0, 0, 0, 0, 0, 0, 0, 1, 0, 0, 1, 0, 0, 0, 0, 0, 0, 0, 0, 0], [0, 0, 0, 0, 0, 0, 0, 0, 0, 1, 9, 13, 4, 1, 0, 1, 0, 0, 1, 0, 0, 0, 0, 0], [0, 0, 0, 0, 0, 0, 0, 0, 1, 1, 0, 0, 1, 0, 0, 1, 0, 0, 0, 0, 0, 0, 0, 0], [0, 0, 0, 0, 0, 0, 2, 15, 7, 20, 17, 10, 9, 5, 6, 6, 2, 4, 4, 7, 5, 2, 3, 0], [0, 0, 0, 1, 0, 0, 0, 0, 0, 0, 0, 0, 0, 0, 0, 0, 0, 0, 0, 0, 0, 0, 0, 0], [1, 0, 1, 2, 1, 0, 0, 1, 0, 0, 1, 2, 2, 0, 4, 1, 1, 0, 1, 3, 0, 0, 1, 0]]\n"
     ]
    }
   ],
   "source": [
    "from functools import reduce\n",
    "from collections import Counter\n",
    "\n",
    "def get_online_activity(activity):\n",
    "    return list(map(lambda x: json.loads(x), set((map(lambda x: json.dumps({'date': x['date'], 'time': x['time']}), activity)))))\n",
    "\n",
    "# serialization is for unique the list, after encoding it we have to decode it\n",
    "online_activities = [get_online_activity(a) for a in activities]\n",
    "\n",
    "def get_online_times(activity):\n",
    "    return Counter(a['time'] for a in activity)\n",
    "\n",
    "online_activities = [[get_online_times(oa).get(i, 0) for i in range(24)] for oa in online_activities]\n",
    "print(online_activities)"
   ]
  },
  {
   "cell_type": "code",
   "execution_count": 96,
   "metadata": {
    "ExecuteTime": {
     "end_time": "2021-01-17T13:12:35.560822Z",
     "start_time": "2021-01-17T13:12:35.184163Z"
    }
   },
   "outputs": [
    {
     "data": {
      "text/plain": [
       "array([[ 1.3125092 , -4.8769927 ],\n",
       "       [ 0.9036586 , -0.63313246],\n",
       "       [-1.8549501 , -2.0124242 ],\n",
       "       [ 0.77853084, -1.9638379 ],\n",
       "       [ 5.886775  ,  6.576011  ],\n",
       "       [ 1.686887  ,  2.2484307 ],\n",
       "       [-0.73285407, -5.66049   ],\n",
       "       [ 1.0021086 , -2.109851  ],\n",
       "       [ 3.4657986 ,  8.952041  ],\n",
       "       [ 5.360119  ,  9.149958  ],\n",
       "       [-1.5348581 , -2.6853838 ],\n",
       "       [ 0.49910057, -3.885593  ],\n",
       "       [ 5.413479  ,  4.2578664 ],\n",
       "       [-0.96285325, -4.672043  ],\n",
       "       [-0.87970513, -5.134816  ],\n",
       "       [-0.17379431, -3.4012232 ],\n",
       "       [ 0.84663475, -1.309794  ],\n",
       "       [ 4.5807905 ,  8.683463  ],\n",
       "       [ 3.901751  ,  8.875886  ],\n",
       "       [ 5.040387  ,  8.465006  ],\n",
       "       [ 4.4396048 ,  6.90521   ],\n",
       "       [ 0.7093091 , -4.7784557 ],\n",
       "       [ 2.0459974 ,  4.7791376 ],\n",
       "       [ 1.4631164 ,  0.7807208 ],\n",
       "       [ 5.4169717 ,  8.381399  ],\n",
       "       [ 3.0759003 ,  6.032225  ],\n",
       "       [ 2.668691  ,  7.0268755 ],\n",
       "       [ 0.01352231, -3.5730126 ],\n",
       "       [-1.6668833 , -3.959805  ],\n",
       "       [ 3.6560755 ,  1.0863734 ],\n",
       "       [-0.67491573, -3.850436  ],\n",
       "       [ 2.641789  ,  2.876952  ],\n",
       "       [ 3.8226755 ,  1.3606812 ],\n",
       "       [ 0.06590337, -1.0281253 ],\n",
       "       [ 4.645559  , 10.053927  ],\n",
       "       [-0.62427884, -5.024169  ],\n",
       "       [-1.9074031 , -1.8609718 ],\n",
       "       [-1.5341297 , -4.5806727 ],\n",
       "       [ 1.5212271 , -0.5619843 ],\n",
       "       [ 0.35462853, -0.9105245 ],\n",
       "       [ 5.5556946 ,  8.1641655 ],\n",
       "       [ 1.8164004 ,  1.6693428 ],\n",
       "       [ 4.3860216 ,  7.7468333 ],\n",
       "       [ 0.35253537, -5.4242873 ],\n",
       "       [ 1.1927412 ,  3.01442   ],\n",
       "       [ 1.2000711 , -3.993224  ],\n",
       "       [ 0.6841558 , -4.4742723 ],\n",
       "       [ 0.97601783,  0.60952526],\n",
       "       [-0.5331654 , -4.204633  ],\n",
       "       [ 5.7375355 ,  7.8319583 ],\n",
       "       [ 2.3414202 ,  4.1807227 ],\n",
       "       [ 4.5524764 ,  8.156886  ],\n",
       "       [-0.60343087, -3.1713495 ],\n",
       "       [ 4.50535   ,  8.421144  ],\n",
       "       [ 0.9101078 ,  0.71926546],\n",
       "       [ 0.06634453, -4.980182  ],\n",
       "       [ 0.46770933, -1.6885835 ],\n",
       "       [ 3.445836  ,  2.7462313 ],\n",
       "       [ 0.3793327 , -3.5084577 ],\n",
       "       [-1.1242014 , -4.5805326 ],\n",
       "       [ 0.91127276, -0.2967275 ],\n",
       "       [ 3.0965803 ,  5.294518  ],\n",
       "       [ 2.3887627 ,  7.0173745 ],\n",
       "       [-0.29639468, -1.4424566 ],\n",
       "       [ 5.0422497 ,  7.765188  ],\n",
       "       [ 5.095123  ,  5.5706596 ],\n",
       "       [ 5.163168  , 10.417125  ],\n",
       "       [ 0.96711916, -0.99812204],\n",
       "       [ 0.86333174, -2.9073827 ],\n",
       "       [ 0.79194355, -1.321988  ],\n",
       "       [ 4.9531364 ,  8.603043  ],\n",
       "       [-1.7784241 , -2.602284  ],\n",
       "       [ 0.56528854, -2.7740192 ],\n",
       "       [ 2.3351383 ,  3.7186017 ],\n",
       "       [-0.9537155 , -5.294524  ],\n",
       "       [ 1.0681043 , -4.1695476 ],\n",
       "       [-1.7803798 , -3.4268165 ],\n",
       "       [ 0.34389588, -1.5873368 ],\n",
       "       [ 3.4092913 ,  5.976383  ],\n",
       "       [ 0.8837064 , -3.8797328 ],\n",
       "       [ 5.2179613 ,  6.994437  ],\n",
       "       [ 4.767046  ,  9.185322  ],\n",
       "       [ 1.3839744 ,  2.8519802 ],\n",
       "       [ 2.1186795 ,  3.2308903 ],\n",
       "       [ 4.082699  ,  3.7978182 ],\n",
       "       [ 6.618119  ,  8.479442  ],\n",
       "       [ 3.381606  ,  4.2751    ],\n",
       "       [ 2.4993389 ,  7.714972  ],\n",
       "       [ 5.462081  ,  7.202672  ],\n",
       "       [ 3.5296268 ,  3.286159  ],\n",
       "       [ 4.3464413 ,  9.410938  ],\n",
       "       [ 4.5335836 ,  6.765315  ],\n",
       "       [ 6.2181187 ,  8.903859  ],\n",
       "       [ 1.3246216 ,  4.4098787 ],\n",
       "       [ 3.7544436 ,  8.060551  ],\n",
       "       [ 4.764785  ,  7.685709  ],\n",
       "       [ 3.8921764 ,  9.912735  ],\n",
       "       [ 5.3731747 ,  4.1952944 ],\n",
       "       [ 5.3236737 ,  8.4549055 ],\n",
       "       [ 1.7925589 ,  2.8724782 ],\n",
       "       [ 6.5437174 ,  6.987614  ],\n",
       "       [ 3.6942263 ,  7.646144  ],\n",
       "       [ 5.537158  ,  6.0211806 ],\n",
       "       [ 4.8350782 ,  7.543008  ],\n",
       "       [ 4.7281103 ,  8.498243  ],\n",
       "       [ 1.7309806 ,  6.068523  ],\n",
       "       [ 2.8509204 ,  3.5425034 ],\n",
       "       [ 4.3211007 ,  8.450018  ],\n",
       "       [ 3.6185725 ,  7.0072374 ],\n",
       "       [ 5.0401587 ,  8.464313  ],\n",
       "       [ 3.6399918 ,  8.214869  ],\n",
       "       [ 3.378392  ,  4.368975  ],\n",
       "       [ 5.1073503 ,  9.55328   ],\n",
       "       [ 0.51413673,  1.6329758 ],\n",
       "       [ 4.577687  ,  8.683308  ],\n",
       "       [ 4.458696  ,  5.3632436 ]], dtype=float32)"
      ]
     },
     "execution_count": 96,
     "metadata": {},
     "output_type": "execute_result"
    }
   ],
   "source": [
    "import numpy as np\n",
    "from sklearn.manifold import TSNE\n",
    "\n",
    "X = np.array(online_activities)\n",
    "X_embedded = TSNE(n_components=2).fit_transform(X)\n",
    "X_embedded"
   ]
  },
  {
   "cell_type": "code",
   "execution_count": 102,
   "metadata": {
    "ExecuteTime": {
     "end_time": "2021-01-17T13:13:01.510829Z",
     "start_time": "2021-01-17T13:13:01.375824Z"
    }
   },
   "outputs": [
    {
     "data": {
      "image/png": "[encoded data removed]",
      "text/plain": [
       "<Figure size 432x288 with 1 Axes>"
      ]
     },
     "metadata": {
      "needs_background": "light"
     },
     "output_type": "display_data"
    }
   ],
   "source": [
    "import matplotlib.pyplot as plt\n",
    " \n",
    "plt.scatter(X_embedded[:, 0], X_embedded[:, 1], s=10)\n",
    "# plt.xlabel(f'perplexity: {PERPLEXITY}\\nn_iter: 1000')\n",
    "plt.show()"
   ]
  },
  {
   "cell_type": "code",
   "execution_count": 95,
   "metadata": {
    "ExecuteTime": {
     "end_time": "2021-01-17T13:12:08.891145Z",
     "start_time": "2021-01-17T13:12:08.875377Z"
    }
   },
   "outputs": [
    {
     "data": {
      "text/plain": [
       "{'→', '噓', '推'}"
      ]
     },
     "execution_count": 95,
     "metadata": {},
     "output_type": "execute_result"
    }
   ],
   "source": [
    "set(df['push_tag'])"
   ]
  }
 ],
 "metadata": {
  "kernelspec": {
   "display_name": "Python 3",
   "language": "python",
   "name": "python3"
  },
  "language_info": {
   "codemirror_mode": {
    "name": "ipython",
    "version": 3
   },
   "file_extension": ".py",
   "mimetype": "text/x-python",
   "name": "python",
   "nbconvert_exporter": "python",
   "pygments_lexer": "ipython3",
   "version": "3.8.5"
  },
  "toc": {
   "base_numbering": 1,
   "nav_menu": {},
   "number_sections": true,
   "sideBar": true,
   "skip_h1_title": false,
   "title_cell": "Table of Contents",
   "title_sidebar": "Contents",
   "toc_cell": false,
   "toc_position": {},
   "toc_section_display": true,
   "toc_window_display": false
  },
  "varInspector": {
   "cols": {
    "lenName": 16,
    "lenType": 16,
    "lenVar": 40
   },
   "kernels_config": {
    "python": {
     "delete_cmd_postfix": "",
     "delete_cmd_prefix": "del ",
     "library": "var_list.py",
     "varRefreshCmd": "print(var_dic_list())"
    },
    "r": {
     "delete_cmd_postfix": ") ",
     "delete_cmd_prefix": "rm(",
     "library": "var_list.r",
     "varRefreshCmd": "cat(var_dic_list()) "
    }
   },
   "types_to_exclude": [
    "module",
    "function",
    "builtin_function_or_method",
    "instance",
    "_Feature"
   ],
   "window_display": false
  }
 },
 "nbformat": 4,
 "nbformat_minor": 4
}
