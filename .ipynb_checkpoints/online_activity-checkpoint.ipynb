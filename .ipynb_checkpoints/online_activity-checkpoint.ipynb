{
 "cells": [
  {
   "cell_type": "code",
   "execution_count": 4,
   "metadata": {
    "ExecuteTime": {
     "end_time": "2021-01-17T07:36:53.360133Z",
     "start_time": "2021-01-17T07:36:50.089201Z"
    }
   },
   "outputs": [
    {
     "data": {
      "text/html": [
       "<div>\n",
       "<style scoped>\n",
       "    .dataframe tbody tr th:only-of-type {\n",
       "        vertical-align: middle;\n",
       "    }\n",
       "\n",
       "    .dataframe tbody tr th {\n",
       "        vertical-align: top;\n",
       "    }\n",
       "\n",
       "    .dataframe thead th {\n",
       "        text-align: right;\n",
       "    }\n",
       "</style>\n",
       "<table border=\"1\" class=\"dataframe\">\n",
       "  <thead>\n",
       "    <tr style=\"text-align: right;\">\n",
       "      <th></th>\n",
       "      <th>board</th>\n",
       "      <th>article_id</th>\n",
       "      <th>article_title</th>\n",
       "      <th>article_content</th>\n",
       "      <th>push_content</th>\n",
       "      <th>push_ip</th>\n",
       "      <th>push_tag</th>\n",
       "      <th>push_timestamp</th>\n",
       "    </tr>\n",
       "    <tr>\n",
       "      <th>pusher_id</th>\n",
       "      <th></th>\n",
       "      <th></th>\n",
       "      <th></th>\n",
       "      <th></th>\n",
       "      <th></th>\n",
       "      <th></th>\n",
       "      <th></th>\n",
       "      <th></th>\n",
       "    </tr>\n",
       "  </thead>\n",
       "  <tbody>\n",
       "    <tr>\n",
       "      <th>kuma660224</th>\n",
       "      <td>Gossiping</td>\n",
       "      <td>M.1547225167.A.9AB</td>\n",
       "      <td>[問卦] 美國為什麼會在1979年決定和中國建交？</td>\n",
       "      <td>今年2019年 60年前的1979年 美國跟中華人民共和國建交 同時美國1979年設的國內法...</td>\n",
       "      <td>因為美國需要利用中國反蘇聯</td>\n",
       "      <td>NaN</td>\n",
       "      <td>→</td>\n",
       "      <td>2019-01-12 06:04:00</td>\n",
       "    </tr>\n",
       "    <tr>\n",
       "      <th>kuma660224</th>\n",
       "      <td>Gossiping</td>\n",
       "      <td>M.1547225167.A.9AB</td>\n",
       "      <td>[問卦] 美國為什麼會在1979年決定和中國建交？</td>\n",
       "      <td>今年2019年 60年前的1979年 美國跟中華人民共和國建交 同時美國1979年設的國內法...</td>\n",
       "      <td>當初中蘇交惡，而美國想擴大共產陣營矛盾</td>\n",
       "      <td>NaN</td>\n",
       "      <td>→</td>\n",
       "      <td>2019-01-12 06:05:00</td>\n",
       "    </tr>\n",
       "    <tr>\n",
       "      <th>kuma660224</th>\n",
       "      <td>Gossiping</td>\n",
       "      <td>M.1547225167.A.9AB</td>\n",
       "      <td>[問卦] 美國為什麼會在1979年決定和中國建交？</td>\n",
       "      <td>今年2019年 60年前的1979年 美國跟中華人民共和國建交 同時美國1979年設的國內法...</td>\n",
       "      <td>敵人的敵人就是朋友（暫時的）</td>\n",
       "      <td>NaN</td>\n",
       "      <td>→</td>\n",
       "      <td>2019-01-12 06:05:00</td>\n",
       "    </tr>\n",
       "    <tr>\n",
       "      <th>kuma660224</th>\n",
       "      <td>Gossiping</td>\n",
       "      <td>M.1547225167.A.9AB</td>\n",
       "      <td>[問卦] 美國為什麼會在1979年決定和中國建交？</td>\n",
       "      <td>今年2019年 60年前的1979年 美國跟中華人民共和國建交 同時美國1979年設的國內法...</td>\n",
       "      <td>跟台灣或老蔣沒啥關係，就美國想要整蘇聯</td>\n",
       "      <td>NaN</td>\n",
       "      <td>→</td>\n",
       "      <td>2019-01-12 06:06:00</td>\n",
       "    </tr>\n",
       "    <tr>\n",
       "      <th>kuma660224</th>\n",
       "      <td>Gossiping</td>\n",
       "      <td>M.1547225167.A.9AB</td>\n",
       "      <td>[問卦] 美國為什麼會在1979年決定和中國建交？</td>\n",
       "      <td>今年2019年 60年前的1979年 美國跟中華人民共和國建交 同時美國1979年設的國內法...</td>\n",
       "      <td>直接在蘇聯身旁插旗佈樁，是蘇聯被歐亞包夾</td>\n",
       "      <td>NaN</td>\n",
       "      <td>→</td>\n",
       "      <td>2019-01-12 06:07:00</td>\n",
       "    </tr>\n",
       "  </tbody>\n",
       "</table>\n",
       "</div>"
      ],
      "text/plain": [
       "                board          article_id              article_title  \\\n",
       "pusher_id                                                              \n",
       "kuma660224  Gossiping  M.1547225167.A.9AB  [問卦] 美國為什麼會在1979年決定和中國建交？   \n",
       "kuma660224  Gossiping  M.1547225167.A.9AB  [問卦] 美國為什麼會在1979年決定和中國建交？   \n",
       "kuma660224  Gossiping  M.1547225167.A.9AB  [問卦] 美國為什麼會在1979年決定和中國建交？   \n",
       "kuma660224  Gossiping  M.1547225167.A.9AB  [問卦] 美國為什麼會在1979年決定和中國建交？   \n",
       "kuma660224  Gossiping  M.1547225167.A.9AB  [問卦] 美國為什麼會在1979年決定和中國建交？   \n",
       "\n",
       "                                              article_content  \\\n",
       "pusher_id                                                       \n",
       "kuma660224  今年2019年 60年前的1979年 美國跟中華人民共和國建交 同時美國1979年設的國內法...   \n",
       "kuma660224  今年2019年 60年前的1979年 美國跟中華人民共和國建交 同時美國1979年設的國內法...   \n",
       "kuma660224  今年2019年 60年前的1979年 美國跟中華人民共和國建交 同時美國1979年設的國內法...   \n",
       "kuma660224  今年2019年 60年前的1979年 美國跟中華人民共和國建交 同時美國1979年設的國內法...   \n",
       "kuma660224  今年2019年 60年前的1979年 美國跟中華人民共和國建交 同時美國1979年設的國內法...   \n",
       "\n",
       "                    push_content push_ip push_tag       push_timestamp  \n",
       "pusher_id                                                               \n",
       "kuma660224         因為美國需要利用中國反蘇聯     NaN     →     2019-01-12 06:04:00  \n",
       "kuma660224   當初中蘇交惡，而美國想擴大共產陣營矛盾     NaN     →     2019-01-12 06:05:00  \n",
       "kuma660224        敵人的敵人就是朋友（暫時的）     NaN     →     2019-01-12 06:05:00  \n",
       "kuma660224   跟台灣或老蔣沒啥關係，就美國想要整蘇聯     NaN     →     2019-01-12 06:06:00  \n",
       "kuma660224  直接在蘇聯身旁插旗佈樁，是蘇聯被歐亞包夾     NaN     →     2019-01-12 06:07:00  "
      ]
     },
     "execution_count": 4,
     "metadata": {},
     "output_type": "execute_result"
    }
   ],
   "source": [
    "import pandas as pd\n",
    "import itertools\n",
    "df = pd.read_csv('../segmentation/2019_2020_top_10.csv', index_col='pusher_id')\n",
    "df.head()"
   ]
  },
  {
   "cell_type": "code",
   "execution_count": 10,
   "metadata": {
    "ExecuteTime": {
     "end_time": "2021-01-17T07:38:16.736253Z",
     "start_time": "2021-01-17T07:38:14.476721Z"
    }
   },
   "outputs": [
    {
     "data": {
      "text/plain": [
       "[{'tag': '→   ', 'date': '2019-01-12', 'time': 6},\n",
       " {'tag': '→   ', 'date': '2019-01-12', 'time': 6},\n",
       " {'tag': '→   ', 'date': '2019-01-12', 'time': 6},\n",
       " {'tag': '→   ', 'date': '2019-01-12', 'time': 6},\n",
       " {'tag': '→   ', 'date': '2019-01-12', 'time': 6}]"
      ]
     },
     "execution_count": 10,
     "metadata": {},
     "output_type": "execute_result"
    }
   ],
   "source": [
    "from datetime import datetime\n",
    "\n",
    "users = list(set(df.index))\n",
    "\n",
    "def parse_timestamp(push_timestamp):\n",
    "    [date, time] = push_timestamp.split()\n",
    "    time = datetime.strptime(time, '%H:%M:%S').hour\n",
    "    return {'date': date, 'time': time}\n",
    "\n",
    "def get_activity(user):\n",
    "    return list(map(lambda x: {'tag': x[0], **parse_timestamp(x[1])}, df.loc[user][['push_tag', 'push_timestamp']].values.tolist()))\n",
    "\n",
    "activities = [get_activity(u) for u in users]\n",
    "# preview\n",
    "activities[0][:5]"
   ]
  },
  {
   "cell_type": "code",
   "execution_count": 12,
   "metadata": {
    "ExecuteTime": {
     "end_time": "2021-01-17T07:38:54.044827Z",
     "start_time": "2021-01-17T07:38:53.296997Z"
    }
   },
   "outputs": [
    {
     "name": "stdout",
     "output_type": "stream",
     "text": [
      "[[51, 34, 29, 14, 6, 2, 3, 7, 46, 79, 75, 65, 118, 86, 64, 64, 58, 61, 63, 75, 70, 63, 87, 78], [17, 12, 5, 5, 6, 10, 80, 127, 289, 246, 250, 277, 242, 256, 243, 252, 245, 259, 267, 214, 112, 85, 57, 50], [138, 102, 51, 15, 8, 17, 68, 171, 279, 313, 287, 280, 300, 281, 282, 283, 276, 288, 275, 260, 214, 237, 223, 181], [312, 231, 127, 69, 35, 16, 30, 82, 140, 194, 238, 245, 256, 247, 240, 249, 235, 236, 248, 272, 272, 288, 272, 321], [269, 150, 46, 9, 3, 0, 8, 42, 109, 262, 304, 300, 302, 304, 275, 263, 258, 272, 276, 283, 301, 286, 318, 294], [60, 68, 59, 62, 49, 28, 34, 25, 21, 16, 22, 49, 62, 75, 97, 118, 108, 115, 76, 73, 47, 57, 64, 66], [540, 507, 460, 375, 276, 172, 101, 76, 167, 215, 228, 231, 291, 331, 270, 282, 311, 368, 387, 395, 412, 446, 486, 536], [0, 0, 0, 0, 0, 0, 0, 0, 0, 2, 3, 5, 29, 10, 5, 2, 2, 2, 22, 9, 2, 2, 3, 0]]\n"
     ]
    }
   ],
   "source": [
    "from functools import reduce\n",
    "from collections import Counter\n",
    "\n",
    "def get_online_activity(activity):\n",
    "    return list(map(lambda x: json.loads(x), set((map(lambda x: json.dumps({'date': x['date'], 'time': x['time']}), activity)))))\n",
    "\n",
    "# serialization is for unique the list, after encoding it we have to decode it\n",
    "online_activities = [get_online_activity(a) for a in activities]\n",
    "\n",
    "def get_online_times(activity):\n",
    "    return Counter(a['time'] for a in activity)\n",
    "\n",
    "online_activities = [[get_online_times(oa).get(i, 0) for i in range(24)] for oa in online_activities]\n",
    "print(online_activities)"
   ]
  },
  {
   "cell_type": "code",
   "execution_count": 13,
   "metadata": {
    "ExecuteTime": {
     "end_time": "2021-01-17T07:38:56.546985Z",
     "start_time": "2021-01-17T07:38:56.331308Z"
    }
   },
   "outputs": [
    {
     "data": {
      "text/plain": [
       "array([[ 238.10316   ,   -0.45904347],\n",
       "       [  35.853794  ,   99.96483   ],\n",
       "       [ -41.04391   ,  -26.768612  ],\n",
       "       [-181.20554   ,  -91.565956  ],\n",
       "       [-173.98999   ,   60.922897  ],\n",
       "       [ 180.66266   , -143.9513    ],\n",
       "       [-364.6512    ,  -33.44687   ],\n",
       "       [ 338.0839    , -121.312004  ]], dtype=float32)"
      ]
     },
     "execution_count": 13,
     "metadata": {},
     "output_type": "execute_result"
    }
   ],
   "source": [
    "import numpy as np\n",
    "from sklearn.manifold import TSNE\n",
    "\n",
    "PERPLEXITY = 5\n",
    "\n",
    "X = np.array(online_activities)\n",
    "X_embedded = TSNE(n_components=2, perplexity=PERPLEXITY).fit_transform(X)\n",
    "X_embedded"
   ]
  },
  {
   "cell_type": "code",
   "execution_count": 38,
   "metadata": {
    "ExecuteTime": {
     "end_time": "2021-01-11T12:43:31.121270Z",
     "start_time": "2021-01-11T12:43:31.009522Z"
    }
   },
   "outputs": [
    {
     "data": {
      "image/png": "[encoded data removed]",
      "text/plain": [
       "<Figure size 432x288 with 1 Axes>"
      ]
     },
     "metadata": {
      "needs_background": "light"
     },
     "output_type": "display_data"
    }
   ],
   "source": [
    "import matplotlib.pyplot as plt\n",
    " \n",
    "plt.scatter(X_embedded[:, 0], X_embedded[:, 1], s=50)\n",
    "plt.xlabel(f'perplexity: {PERPLEXITY}\\nn_iter: 1000')\n",
    "plt.show()"
   ]
  },
  {
   "cell_type": "code",
   "execution_count": 4,
   "metadata": {
    "ExecuteTime": {
     "end_time": "2021-01-10T15:02:23.954690Z",
     "start_time": "2021-01-10T15:02:23.926426Z"
    }
   },
   "outputs": [
    {
     "data": {
      "text/plain": [
       "{'→   ', '噓   ', '推   '}"
      ]
     },
     "execution_count": 4,
     "metadata": {},
     "output_type": "execute_result"
    }
   ],
   "source": [
    "set(df['push_tag'])"
   ]
  }
 ],
 "metadata": {
  "kernelspec": {
   "display_name": "Python 3",
   "language": "python",
   "name": "python3"
  },
  "language_info": {
   "codemirror_mode": {
    "name": "ipython",
    "version": 3
   },
   "file_extension": ".py",
   "mimetype": "text/x-python",
   "name": "python",
   "nbconvert_exporter": "python",
   "pygments_lexer": "ipython3",
   "version": "3.8.5"
  },
  "toc": {
   "base_numbering": 1,
   "nav_menu": {},
   "number_sections": true,
   "sideBar": true,
   "skip_h1_title": false,
   "title_cell": "Table of Contents",
   "title_sidebar": "Contents",
   "toc_cell": false,
   "toc_position": {},
   "toc_section_display": true,
   "toc_window_display": false
  },
  "varInspector": {
   "cols": {
    "lenName": 16,
    "lenType": 16,
    "lenVar": 40
   },
   "kernels_config": {
    "python": {
     "delete_cmd_postfix": "",
     "delete_cmd_prefix": "del ",
     "library": "var_list.py",
     "varRefreshCmd": "print(var_dic_list())"
    },
    "r": {
     "delete_cmd_postfix": ") ",
     "delete_cmd_prefix": "rm(",
     "library": "var_list.r",
     "varRefreshCmd": "cat(var_dic_list()) "
    }
   },
   "types_to_exclude": [
    "module",
    "function",
    "builtin_function_or_method",
    "instance",
    "_Feature"
   ],
   "window_display": false
  }
 },
 "nbformat": 4,
 "nbformat_minor": 4
}
